{
 "cells": [
  {
   "cell_type": "code",
   "execution_count": 1,
   "id": "de82850f",
   "metadata": {},
   "outputs": [
    {
     "name": "stdout",
     "output_type": "stream",
     "text": [
      "--2025-10-11 01:28:13--  https://raw.githubusercontent.com/alexeygrigorev/datasets/master/course_lead_scoring.csv\n",
      "Resolving raw.githubusercontent.com (raw.githubusercontent.com)... 185.199.111.133, 185.199.108.133, 185.199.109.133, ...\n",
      "Connecting to raw.githubusercontent.com (raw.githubusercontent.com)|185.199.111.133|:443... connected.\n",
      "HTTP request sent, awaiting response... 200 OK\n",
      "Length: 80876 (79K) [text/plain]\n",
      "Saving to: ‘course_lead_scoring.csv’\n",
      "\n",
      "course_lead_scoring 100%[===================>]  78.98K  --.-KB/s    in 0.008s  \n",
      "\n",
      "2025-10-11 01:28:14 (9.87 MB/s) - ‘course_lead_scoring.csv’ saved [80876/80876]\n",
      "\n"
     ]
    }
   ],
   "source": [
    "!wget https://raw.githubusercontent.com/alexeygrigorev/datasets/master/course_lead_scoring.csv\n"
   ]
  },
  {
   "cell_type": "code",
   "execution_count": 34,
   "id": "8a202b5c",
   "metadata": {},
   "outputs": [],
   "source": [
    "import pandas as pd\n",
    "from sklearn.model_selection import train_test_split\n",
    "from sklearn.feature_selection import mutual_info_classif\n",
    "from sklearn.linear_model import LogisticRegression\n",
    "from sklearn.metrics import accuracy_score\n",
    "from sklearn.preprocessing import LabelEncoder\n",
    "from sklearn.preprocessing import OneHotEncoder\n",
    "import numpy as np\n",
    "\n",
    "\n",
    "\n"
   ]
  },
  {
   "cell_type": "markdown",
   "id": "31b06838",
   "metadata": {},
   "source": [
    "DATA PREP"
   ]
  },
  {
   "cell_type": "code",
   "execution_count": 18,
   "id": "0c591811",
   "metadata": {},
   "outputs": [],
   "source": [
    "\n",
    "\n",
    "# Load the dataset\n",
    "df = pd.read_csv('course_lead_scoring.csv')\n",
    "\n",
    "# Separate numerical and categorical features\n",
    "num_cols = ['number_of_courses_viewed', 'annual_income', 'interaction_count', 'lead_score']\n",
    "cat_cols = ['lead_source', 'industry', 'employment_status', 'location']\n",
    "\n",
    "# Handle missing values\n",
    "df[cat_cols] = df[cat_cols].fillna('NA')\n",
    "df[num_cols] = df[num_cols].fillna(0.0)\n"
   ]
  },
  {
   "cell_type": "code",
   "execution_count": 19,
   "id": "9ab758d3",
   "metadata": {},
   "outputs": [
    {
     "data": {
      "text/html": [
       "<div>\n",
       "<style scoped>\n",
       "    .dataframe tbody tr th:only-of-type {\n",
       "        vertical-align: middle;\n",
       "    }\n",
       "\n",
       "    .dataframe tbody tr th {\n",
       "        vertical-align: top;\n",
       "    }\n",
       "\n",
       "    .dataframe thead th {\n",
       "        text-align: right;\n",
       "    }\n",
       "</style>\n",
       "<table border=\"1\" class=\"dataframe\">\n",
       "  <thead>\n",
       "    <tr style=\"text-align: right;\">\n",
       "      <th></th>\n",
       "      <th>lead_source</th>\n",
       "      <th>industry</th>\n",
       "      <th>number_of_courses_viewed</th>\n",
       "      <th>annual_income</th>\n",
       "      <th>employment_status</th>\n",
       "      <th>location</th>\n",
       "      <th>interaction_count</th>\n",
       "      <th>lead_score</th>\n",
       "      <th>converted</th>\n",
       "    </tr>\n",
       "  </thead>\n",
       "  <tbody>\n",
       "    <tr>\n",
       "      <th>0</th>\n",
       "      <td>paid_ads</td>\n",
       "      <td>NaN</td>\n",
       "      <td>1</td>\n",
       "      <td>79450.0</td>\n",
       "      <td>unemployed</td>\n",
       "      <td>south_america</td>\n",
       "      <td>4</td>\n",
       "      <td>0.94</td>\n",
       "      <td>1</td>\n",
       "    </tr>\n",
       "    <tr>\n",
       "      <th>1</th>\n",
       "      <td>social_media</td>\n",
       "      <td>retail</td>\n",
       "      <td>1</td>\n",
       "      <td>46992.0</td>\n",
       "      <td>employed</td>\n",
       "      <td>south_america</td>\n",
       "      <td>1</td>\n",
       "      <td>0.80</td>\n",
       "      <td>0</td>\n",
       "    </tr>\n",
       "    <tr>\n",
       "      <th>2</th>\n",
       "      <td>events</td>\n",
       "      <td>healthcare</td>\n",
       "      <td>5</td>\n",
       "      <td>78796.0</td>\n",
       "      <td>unemployed</td>\n",
       "      <td>australia</td>\n",
       "      <td>3</td>\n",
       "      <td>0.69</td>\n",
       "      <td>1</td>\n",
       "    </tr>\n",
       "    <tr>\n",
       "      <th>3</th>\n",
       "      <td>paid_ads</td>\n",
       "      <td>retail</td>\n",
       "      <td>2</td>\n",
       "      <td>83843.0</td>\n",
       "      <td>NaN</td>\n",
       "      <td>australia</td>\n",
       "      <td>1</td>\n",
       "      <td>0.87</td>\n",
       "      <td>0</td>\n",
       "    </tr>\n",
       "    <tr>\n",
       "      <th>4</th>\n",
       "      <td>referral</td>\n",
       "      <td>education</td>\n",
       "      <td>3</td>\n",
       "      <td>85012.0</td>\n",
       "      <td>self_employed</td>\n",
       "      <td>europe</td>\n",
       "      <td>3</td>\n",
       "      <td>0.62</td>\n",
       "      <td>1</td>\n",
       "    </tr>\n",
       "  </tbody>\n",
       "</table>\n",
       "</div>"
      ],
      "text/plain": [
       "    lead_source    industry  number_of_courses_viewed  annual_income  \\\n",
       "0      paid_ads         NaN                         1        79450.0   \n",
       "1  social_media      retail                         1        46992.0   \n",
       "2        events  healthcare                         5        78796.0   \n",
       "3      paid_ads      retail                         2        83843.0   \n",
       "4      referral   education                         3        85012.0   \n",
       "\n",
       "  employment_status       location  interaction_count  lead_score  converted  \n",
       "0        unemployed  south_america                  4        0.94          1  \n",
       "1          employed  south_america                  1        0.80          0  \n",
       "2        unemployed      australia                  3        0.69          1  \n",
       "3               NaN      australia                  1        0.87          0  \n",
       "4     self_employed         europe                  3        0.62          1  "
      ]
     },
     "execution_count": 19,
     "metadata": {},
     "output_type": "execute_result"
    }
   ],
   "source": [
    "df=pd.read_csv('course_lead_scoring.csv')\n",
    "df.head()"
   ]
  },
  {
   "cell_type": "markdown",
   "id": "2756554f",
   "metadata": {},
   "source": [
    "QUESTION 1"
   ]
  },
  {
   "cell_type": "code",
   "execution_count": 22,
   "id": "8a585364",
   "metadata": {},
   "outputs": [
    {
     "data": {
      "text/plain": [
       "0    retail\n",
       "Name: industry, dtype: object"
      ]
     },
     "execution_count": 22,
     "metadata": {},
     "output_type": "execute_result"
    }
   ],
   "source": [
    "df.industry.mode()"
   ]
  },
  {
   "cell_type": "markdown",
   "id": "ba0ef134",
   "metadata": {},
   "source": [
    "QUESTION 2"
   ]
  },
  {
   "cell_type": "code",
   "execution_count": 24,
   "id": "bbfb7c59",
   "metadata": {},
   "outputs": [
    {
     "data": {
      "text/html": [
       "<div>\n",
       "<style scoped>\n",
       "    .dataframe tbody tr th:only-of-type {\n",
       "        vertical-align: middle;\n",
       "    }\n",
       "\n",
       "    .dataframe tbody tr th {\n",
       "        vertical-align: top;\n",
       "    }\n",
       "\n",
       "    .dataframe thead th {\n",
       "        text-align: right;\n",
       "    }\n",
       "</style>\n",
       "<table border=\"1\" class=\"dataframe\">\n",
       "  <thead>\n",
       "    <tr style=\"text-align: right;\">\n",
       "      <th></th>\n",
       "      <th>Feature_1</th>\n",
       "      <th>Feature_2</th>\n",
       "      <th>Correlation</th>\n",
       "    </tr>\n",
       "  </thead>\n",
       "  <tbody>\n",
       "    <tr>\n",
       "      <th>0</th>\n",
       "      <td>annual_income</td>\n",
       "      <td>interaction_count</td>\n",
       "      <td>0.048618</td>\n",
       "    </tr>\n",
       "    <tr>\n",
       "      <th>1</th>\n",
       "      <td>number_of_courses_viewed</td>\n",
       "      <td>annual_income</td>\n",
       "      <td>0.031551</td>\n",
       "    </tr>\n",
       "    <tr>\n",
       "      <th>2</th>\n",
       "      <td>number_of_courses_viewed</td>\n",
       "      <td>interaction_count</td>\n",
       "      <td>0.023565</td>\n",
       "    </tr>\n",
       "    <tr>\n",
       "      <th>3</th>\n",
       "      <td>interaction_count</td>\n",
       "      <td>lead_score</td>\n",
       "      <td>0.009888</td>\n",
       "    </tr>\n",
       "    <tr>\n",
       "      <th>4</th>\n",
       "      <td>annual_income</td>\n",
       "      <td>lead_score</td>\n",
       "      <td>0.005334</td>\n",
       "    </tr>\n",
       "    <tr>\n",
       "      <th>5</th>\n",
       "      <td>number_of_courses_viewed</td>\n",
       "      <td>lead_score</td>\n",
       "      <td>0.004879</td>\n",
       "    </tr>\n",
       "  </tbody>\n",
       "</table>\n",
       "</div>"
      ],
      "text/plain": [
       "                  Feature_1          Feature_2  Correlation\n",
       "0             annual_income  interaction_count     0.048618\n",
       "1  number_of_courses_viewed      annual_income     0.031551\n",
       "2  number_of_courses_viewed  interaction_count     0.023565\n",
       "3         interaction_count         lead_score     0.009888\n",
       "4             annual_income         lead_score     0.005334\n",
       "5  number_of_courses_viewed         lead_score     0.004879"
      ]
     },
     "execution_count": 24,
     "metadata": {},
     "output_type": "execute_result"
    }
   ],
   "source": [
    "\n",
    "# Numerical columns\n",
    "num_cols = ['number_of_courses_viewed', 'annual_income', 'interaction_count', 'lead_score']\n",
    "\n",
    "# Compute correlation matrix\n",
    "corr = df[num_cols].corr().abs()  # abs() → to sort by strength of correlation\n",
    "\n",
    "# Unstack to get pairwise correlations\n",
    "corr_unstacked = corr.unstack().reset_index()\n",
    "corr_unstacked.columns = ['Feature_1', 'Feature_2', 'Correlation']\n",
    "\n",
    "# Remove self correlations and duplicate pairs (A,B vs B,A)\n",
    "corr_table = corr_unstacked[corr_unstacked['Feature_1'] != corr_unstacked['Feature_2']]\n",
    "corr_table = corr_table.drop_duplicates(subset=['Correlation']).sort_values(by='Correlation', ascending=False)\n",
    "\n",
    "# Reset index for clarity\n",
    "corr_table = corr_table.reset_index(drop=True)\n",
    "\n",
    "# Show result\n",
    "corr_table\n"
   ]
  },
  {
   "cell_type": "markdown",
   "id": "7426b980",
   "metadata": {},
   "source": [
    "DATA SPLIT"
   ]
  },
  {
   "cell_type": "code",
   "execution_count": 25,
   "id": "25278475",
   "metadata": {},
   "outputs": [],
   "source": [
    "df_full_train, df_test = train_test_split(df, test_size=0.2, random_state=42)\n",
    "df_train, df_val = train_test_split(df_full_train, test_size=0.25, random_state=42)  # 0.25 x 0.8 = 0.2\n",
    "\n",
    "# Reset indexes\n",
    "df_train = df_train.reset_index(drop=True)\n",
    "df_val = df_val.reset_index(drop=True)\n",
    "df_test = df_test.reset_index(drop=True)\n",
    "\n",
    "y_train = df_train.converted\n",
    "y_val = df_val.converted\n",
    "y_test = df_test.converted\n",
    "\n",
    "# Drop target column from features\n",
    "X_train = df_train.drop('converted', axis=1)\n",
    "X_val = df_val.drop('converted', axis=1)\n",
    "X_test = df_test.drop('converted', axis=1)\n"
   ]
  },
  {
   "cell_type": "markdown",
   "id": "e6f34bf6",
   "metadata": {},
   "source": [
    "QUESTION 3"
   ]
  },
  {
   "cell_type": "code",
   "execution_count": 29,
   "id": "ba6b6b4b",
   "metadata": {},
   "outputs": [
    {
     "data": {
      "text/plain": [
       "{'lead_source': np.float64(0.04),\n",
       " 'industry': np.float64(0.01),\n",
       " 'employment_status': np.float64(0.01),\n",
       " 'location': np.float64(0.0)}"
      ]
     },
     "execution_count": 29,
     "metadata": {},
     "output_type": "execute_result"
    }
   ],
   "source": [
    "\n",
    "\n",
    "def calc_mutual_info(df, y):\n",
    "    mi = {}\n",
    "    for c in cat_cols:\n",
    "        # Convert categorical column to numeric labels\n",
    "        enc = LabelEncoder()\n",
    "        encoded = enc.fit_transform(df[c])\n",
    "        mi[c] = mutual_info_classif(encoded.reshape(-1, 1), y, discrete_features=True)[0]\n",
    "    return mi\n",
    "\n",
    "mi_scores = calc_mutual_info(X_train, y_train)\n",
    "mi_scores = {k: round(v, 2) for k, v in mi_scores.items()}\n",
    "mi_scores\n"
   ]
  },
  {
   "cell_type": "markdown",
   "id": "d78720f0",
   "metadata": {},
   "source": [
    "QUESTION 4"
   ]
  },
  {
   "cell_type": "code",
   "execution_count": null,
   "id": "26ecf14f",
   "metadata": {},
   "outputs": [],
   "source": [
    "cat_cols = ['lead_source', 'industry', 'employment_status', 'location']\n",
    "num_cols = ['number_of_courses_viewed', 'annual_income', 'interaction_count', 'lead_score']\n",
    "\n",
    "X_train[cat_cols] = X_train[cat_cols].fillna('NA')\n",
    "X_val[cat_cols] = X_val[cat_cols].fillna('NA')\n",
    "X_test[cat_cols] = X_test[cat_cols].fillna('NA')\n",
    "\n",
    "X_train[num_cols] = X_train[num_cols].fillna(0.0)\n",
    "X_val[num_cols] = X_val[num_cols].fillna(0.0)\n",
    "X_test[num_cols] = X_test[num_cols].fillna(0.0)\n"
   ]
  },
  {
   "cell_type": "code",
   "execution_count": null,
   "id": "cee9f4f5",
   "metadata": {},
   "outputs": [
    {
     "name": "stdout",
     "output_type": "stream",
     "text": [
      "Validation Accuracy: 0.7\n"
     ]
    }
   ],
   "source": [
    "\n",
    "\n",
    "ohe = OneHotEncoder(handle_unknown='ignore', sparse_output=False)\n",
    "X_train_ohe = ohe.fit_transform(X_train[cat_cols])\n",
    "X_val_ohe = ohe.transform(X_val[cat_cols])\n",
    "\n",
    "X_train_final = np.hstack([X_train[num_cols].values, X_train_ohe])\n",
    "X_val_final = np.hstack([X_val[num_cols].values, X_val_ohe])\n",
    "\n",
    "model = LogisticRegression(solver='liblinear', C=1.0, max_iter=1000, random_state=42)\n",
    "model.fit(X_train_final, y_train)\n",
    "\n",
    "y_pred = model.predict(X_val_final)\n",
    "acc = round(accuracy_score(y_val, y_pred), 2)\n",
    "print(\"Validation Accuracy:\", acc)\n"
   ]
  },
  {
   "cell_type": "markdown",
   "id": "18e6a1fd",
   "metadata": {},
   "source": [
    "QUESTION 5"
   ]
  },
  {
   "cell_type": "code",
   "execution_count": 35,
   "id": "053174dd",
   "metadata": {},
   "outputs": [
    {
     "name": "stdout",
     "output_type": "stream",
     "text": [
      "Base accuracy: 0.6996587030716723\n"
     ]
    },
    {
     "data": {
      "text/plain": [
       "{'number_of_courses_viewed': 0.14334470989761094,\n",
       " 'annual_income': -0.15358361774744034,\n",
       " 'interaction_count': 0.14334470989761094,\n",
       " 'lead_score': -0.0068259385665528916,\n",
       " 'lead_source': -0.0034129692832765013,\n",
       " 'industry': 0.0,\n",
       " 'employment_status': 0.0034129692832763903,\n",
       " 'location': -0.010238907849829393}"
      ]
     },
     "execution_count": 35,
     "metadata": {},
     "output_type": "execute_result"
    }
   ],
   "source": [
    "base_acc = accuracy_score(y_val, model.predict(X_val_final))\n",
    "print(\"Base accuracy:\", base_acc)\n",
    "\n",
    "differences = {}\n",
    "\n",
    "for feature in num_cols + cat_cols:\n",
    "    cols_to_use = [c for c in num_cols + cat_cols if c != feature]\n",
    "    \n",
    "    X_train_sub = X_train[cols_to_use]\n",
    "    X_val_sub = X_val[cols_to_use]\n",
    "    \n",
    "    # One-hot encode categorical subset\n",
    "    ohe_sub = OneHotEncoder(handle_unknown='ignore', sparse_output=False)\n",
    "    X_train_ohe_sub = ohe_sub.fit_transform(X_train_sub.select_dtypes('object'))\n",
    "    X_val_ohe_sub = ohe_sub.transform(X_val_sub.select_dtypes('object'))\n",
    "    \n",
    "    X_train_final_sub = np.hstack([X_train_sub.select_dtypes('number').values, X_train_ohe_sub])\n",
    "    X_val_final_sub = np.hstack([X_val_sub.select_dtypes('number').values, X_val_ohe_sub])\n",
    "    \n",
    "    model_sub = LogisticRegression(solver='liblinear', C=1.0, max_iter=1000, random_state=42)\n",
    "    model_sub.fit(X_train_final_sub, y_train)\n",
    "    \n",
    "    acc_sub = accuracy_score(y_val, model_sub.predict(X_val_final_sub))\n",
    "    differences[feature] = base_acc - acc_sub\n",
    "\n",
    "differences\n"
   ]
  },
  {
   "cell_type": "markdown",
   "id": "29a0ad03",
   "metadata": {},
   "source": [
    "QUESTION 6"
   ]
  },
  {
   "cell_type": "code",
   "execution_count": 38,
   "id": "a7978903",
   "metadata": {},
   "outputs": [
    {
     "data": {
      "text/plain": [
       "{0.01: 0.6996587030716723,\n",
       " 0.1: 0.6996587030716723,\n",
       " 1: 0.6996587030716723,\n",
       " 10: 0.6996587030716723,\n",
       " 100: 0.6996587030716723}"
      ]
     },
     "execution_count": 38,
     "metadata": {},
     "output_type": "execute_result"
    }
   ],
   "source": [
    "C_values = [0.01, 0.1, 1, 10, 100]\n",
    "acc_scores = {}\n",
    "\n",
    "for C in C_values:\n",
    "    model = LogisticRegression(solver='liblinear', C=C, max_iter=1000, random_state=42)\n",
    "    model.fit(X_train_final, y_train)\n",
    "    acc=accuracy_score(y_val, model.predict(X_val_final))\n",
    "    acc_scores[C] = acc\n",
    "\n",
    "acc_scores\n"
   ]
  },
  {
   "cell_type": "code",
   "execution_count": null,
   "id": "6deac62e",
   "metadata": {},
   "outputs": [],
   "source": []
  }
 ],
 "metadata": {
  "kernelspec": {
   "display_name": "ml-zoom-camp",
   "language": "python",
   "name": "python3"
  },
  "language_info": {
   "codemirror_mode": {
    "name": "ipython",
    "version": 3
   },
   "file_extension": ".py",
   "mimetype": "text/x-python",
   "name": "python",
   "nbconvert_exporter": "python",
   "pygments_lexer": "ipython3",
   "version": "3.12.1"
  }
 },
 "nbformat": 4,
 "nbformat_minor": 5
}
